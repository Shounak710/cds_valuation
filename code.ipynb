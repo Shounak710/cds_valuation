{
 "cells": [
  {
   "cell_type": "code",
   "execution_count": 422,
   "metadata": {},
   "outputs": [],
   "source": [
    "import math\n",
    "import numpy as np\n",
    "from datetime import date\n",
    "from dateutil.relativedelta import relativedelta\n",
    "import matplotlib.pyplot as plt"
   ]
  },
  {
   "cell_type": "markdown",
   "metadata": {},
   "source": [
    "The Libor rate r(s) for maturity s years is given by the Nelson-Siegel model as:\n",
    "\n",
    "$r(s) = B0 + B1*(tau/s)*(1-exp(-s/tau)) + B2*((tau/s)*(1-exp(-s/tau)) - exp(-s/tau))$\n",
    "\n",
    "From this, we compute the discount factor $Z(0, s) = exp(-r(s) * s)$"
   ]
  },
  {
   "cell_type": "code",
   "execution_count": 423,
   "metadata": {},
   "outputs": [],
   "source": [
    "def r(s, B0=0.0408, B1=-0.0396, B2=-0.0511, tau=1.614):\n",
    "    if s == 0:\n",
    "        return 0\n",
    "\n",
    "    term_1 = B0\n",
    "    term_2 = B1*(tau/s)*(1-np.exp(-s/tau))\n",
    "    term_3 = B2*((tau/s)*(1-np.exp(-s/tau)) - np.exp(-s/tau))\n",
    "\n",
    "    return term_1 + term_2 + term_3"
   ]
  },
  {
   "cell_type": "code",
   "execution_count": 200,
   "metadata": {},
   "outputs": [],
   "source": [
    "def Z(s, B0=0.0408, B1=-0.0396, B2=-0.0511, tau=1.614):\n",
    "    return np.exp(-r(s, B0, B1, B2, tau) * s)"
   ]
  },
  {
   "cell_type": "markdown",
   "metadata": {},
   "source": [
    "### Calculation of survival probabilities Q(t)"
   ]
  },
  {
   "cell_type": "code",
   "execution_count": 424,
   "metadata": {},
   "outputs": [],
   "source": [
    "def weekend_rollover(w_date):\n",
    "    # If payment date falls on a weekday, roll it over to Monday.\n",
    "    if w_date.weekday() == 5:\n",
    "        w_date += relativedelta(days=2)\n",
    "    elif w_date.weekday() == 6:\n",
    "        w_date += relativedelta(days=1)\n",
    "\n",
    "    return w_date"
   ]
  },
  {
   "cell_type": "code",
   "execution_count": 425,
   "metadata": {},
   "outputs": [],
   "source": [
    "payment_period = 0.25 # 4 payments per year\n",
    "\n",
    "# maturity dates for the known spreads, as calculated on February 28, 2014 \n",
    "spread_maturity_dates_before_adjustment = [\n",
    "    date(2014, 9, 20),\n",
    "    date(2015, 3, 20),\n",
    "    date(2016, 3, 20),\n",
    "    date(2017, 3, 20),\n",
    "    date(2018, 3, 20),\n",
    "    date(2019, 3, 20),\n",
    "    date(2021, 3, 20),\n",
    "    date(2024, 3, 20),\n",
    "    date(2034, 3, 20),\n",
    "    date(2044, 3, 20)\n",
    "]\n",
    "\n",
    "spread_maturity_dates = [ weekend_rollover(mat_date) for mat_date in spread_maturity_dates_before_adjustment ]\n",
    "# spread data: {time(in years): spread (bps)}\n",
    "spread_data = {\n",
    "    0.5: 103.07,\n",
    "    1: 104.68,\n",
    "    2: 106.74,\n",
    "    3: 110.31,\n",
    "    4: 113.38,\n",
    "    5: 116.98,\n",
    "    7: 128.78,\n",
    "    10: 143.51,\n",
    "    20: 159.43,\n",
    "    30: 164.13\n",
    "}\n",
    "\n",
    "R = 0.45 #Recovery rate for standard CDS"
   ]
  },
  {
   "cell_type": "markdown",
   "metadata": {},
   "source": [
    "Payment convention assumed is (Actual / 360).\n",
    "\n",
    "If payment dates fall on weekend, they are rolled over to Monday."
   ]
  },
  {
   "cell_type": "markdown",
   "metadata": {},
   "source": [
    "h(s), which is the instantaneous forward default rate, is assumed to be piecewise constant between the different maturities for which we know the spreads.\n",
    "\n",
    "If we can calibrate the values of this instantaneous forward default rate, we can get the survival curve.\n",
    "\n",
    "$-\\ln(Q(t)) = \\int_0^t h(s) \\,ds$"
   ]
  },
  {
   "cell_type": "code",
   "execution_count": 426,
   "metadata": {},
   "outputs": [],
   "source": [
    "# Payment dates for standard CDS = 20 March, 20 June, 20 September, 20 December\n",
    "# Payment dates for non-standard CDS = 15 February, 15 May, 15 August, 15 November\n",
    "standard_cds_payment_dates = [date(2014, 3, 20), date(2014, 6, 20), date(2014, 9, 20), date(2014, 12, 20)] # year is irrelevant\n",
    "nonstandard_cds_payment_dates = [date(2014, 2, 15), date(2014, 5, 15), date(2014, 8, 15), date(2014, 11, 15)] # year is irrelevant\n",
    "\n",
    "def next_payment_date(current_date, payment_dates=standard_cds_payment_dates):\n",
    "    payment_date = current_date\n",
    "\n",
    "    if current_date.month < payment_dates[0].month:\n",
    "        payment_date = date(current_date.year, payment_dates[0].month, payment_dates[0].day)\n",
    "    elif current_date.month > payment_dates[0].month and current_date.month < payment_dates[1].month:\n",
    "        payment_date = date(current_date.year, payment_dates[1].month, payment_dates[1].day)\n",
    "    elif current_date.month > payment_dates[1].month and current_date.month < payment_dates[2].month:\n",
    "        payment_date = date(current_date.year, payment_dates[2].month, payment_dates[2].day)\n",
    "    elif current_date.month > payment_dates[2].month and current_date.month < payment_dates[3].month:\n",
    "        payment_date = date(current_date.year, payment_dates[3].month, payment_dates[3].day)\n",
    "    else:\n",
    "        # date belongs to one of the payment months\n",
    "        if current_date.day < payment_dates[0].day:\n",
    "            payment_date = date(current_date.year, current_date.month, payment_dates[0].day)\n",
    "        else:\n",
    "            payment_date = next_payment_date(current_date + relativedelta(months=1))\n",
    "\n",
    "    # If payment date falls on a weekday, roll it over to Monday.\n",
    "    payment_date = weekend_rollover(payment_date)\n",
    "\n",
    "    return payment_date"
   ]
  },
  {
   "cell_type": "code",
   "execution_count": 427,
   "metadata": {},
   "outputs": [],
   "source": [
    "contract_date = date(2014, 2, 28)\n",
    "effective_date = contract_date + relativedelta(days=1)"
   ]
  },
  {
   "cell_type": "code",
   "execution_count": 428,
   "metadata": {},
   "outputs": [],
   "source": [
    "def K(T_i, m=12):\n",
    "    return math.ceil(m*T_i)\n",
    "\n",
    "def s(k, T_i, m=12):\n",
    "    # We are choosing m=12, because we want to calculate the value in monthly subintervals.\n",
    "    return k*T_i / K(T_i, m)"
   ]
  },
  {
   "cell_type": "code",
   "execution_count": 387,
   "metadata": {},
   "outputs": [],
   "source": [
    "# def cds_mtm_value(h_i, end_date, prev_h={}):\n",
    "#     a = (1-R)/2\n",
    "#     b = 0\n",
    "\n",
    "#     effective_date = contract_date + relativedelta(days=1)\n",
    "#     maturity_date = next_payment_date(date(2014, 9, 1))\n",
    "\n",
    "#     T_1 = (maturity_date - effective_date).days / 360\n",
    "    \n",
    "#     for k in range(K(T_1)):\n",
    "#         b += (Z(s(k, T_1)) + Z(s(k+1, T_1))) * (np.exp(-s(k, T_1)*h_i) - np.exp(-s(k+1, T_1)*h_i))\n",
    "#         print(f\"s:{s(k, T_1)}, h:{h_i}\")\n",
    "\n",
    "\n",
    "#     c = 0.5 * spread_data[0.5] / 100 # Dividing by 100 to convert bps to %.\n",
    "#     d = 0\n",
    "\n",
    "#     current_date = effective_date\n",
    "#     next_pay_date = next_payment_date(effective_date)\n",
    "\n",
    "#     # Adding two days in the while loop check to account for weekend\n",
    "#     while next_pay_date <= spread_maturity_dates[0] + relativedelta(days=2):\n",
    "#         delta_t = ((next_pay_date - current_date).days) / 360 # day-counting convention\n",
    "#         t_1 = (current_date - effective_date).days / 360\n",
    "#         t_2 = (next_pay_date - effective_date).days / 360\n",
    "\n",
    "#         d += delta_t * Z(t_2) * (np.exp(-t_1*h_i) + np.exp(-t_2*h_i))\n",
    "        \n",
    "#         current_date = next_pay_date\n",
    "#         next_pay_date = next_payment_date(next_pay_date)\n",
    "    \n",
    "#     print(\"current_date\", current_date)\n",
    "#     print(\"next_pay_date\", next_pay_date)\n",
    "    \n",
    "#     print(\"a:\", a)\n",
    "#     print(\"b:\", b)\n",
    "#     print(\"c:\", c)\n",
    "#     print(\"d:\", d)\n",
    "\n",
    "#     return a*b-c*d"
   ]
  },
  {
   "cell_type": "code",
   "execution_count": 388,
   "metadata": {},
   "outputs": [],
   "source": [
    "# cds_mtm_value(0.01, spread_maturity_dates[0])"
   ]
  },
  {
   "cell_type": "code",
   "execution_count": 476,
   "metadata": {},
   "outputs": [],
   "source": [
    "def Q_h(t, h_i, prev_h={}):\n",
    "    # t: time in years\n",
    "    # h_i: instantaneous forward default rate for ith maturity\n",
    "\n",
    "    end_date = effective_date + relativedelta(days=int(t*360))\n",
    "\n",
    "    h_t = 0\n",
    "    for idx, mat_date in enumerate(spread_maturity_dates):\n",
    "        start_date = effective_date if idx==0 else spread_maturity_dates[idx-1]\n",
    "\n",
    "        if mat_date < end_date:\n",
    "            h_t += prev_h[mat_date] * ((mat_date - start_date).days / 360)\n",
    "        elif mat_date >= end_date:\n",
    "            h_t += h_i * ((end_date - start_date).days / 360)\n",
    "\n",
    "            break\n",
    "    \n",
    "    return np.exp(-h_t)\n",
    "\n",
    "# differential of Q_h\n",
    "def diff_Q_h(t, h_i, prev_h):\n",
    "    end_date = effective_date + relativedelta(days=int(t*360))\n",
    "    diff = 0\n",
    "\n",
    "    for idx, mat_date in enumerate(spread_maturity_dates):\n",
    "        if mat_date >= end_date:\n",
    "            start_date = effective_date if idx == 0 else spread_maturity_dates[idx-1]\n",
    "            diff = (end_date - start_date).days / 360\n",
    "            break\n",
    "\n",
    "    return -diff*Q_h(t, h_i, prev_h)"
   ]
  },
  {
   "cell_type": "code",
   "execution_count": 477,
   "metadata": {},
   "outputs": [],
   "source": [
    "\n",
    "def cds_mtm_value(h_i, maturity_date, prev_h={}):\n",
    "    a = (1-R)/2\n",
    "    b = 0\n",
    "\n",
    "    T = (maturity_date - effective_date).days / 360\n",
    "    \n",
    "    for k in range(K(T)):\n",
    "        b += (Z(s(k, T)) + Z(s(k+1, T))) * (Q_h(s(k,T), h_i, prev_h) - Q_h(s(k+1, T), h_i, prev_h))\n",
    "\n",
    "    maturity_date_index = spread_maturity_dates.index(maturity_date)\n",
    "    \n",
    "    c = 0.5 * list(spread_data.values())[maturity_date_index] / 100 # Dividing by 100 to convert bps to %.\n",
    "    d = 0\n",
    "\n",
    "    current_date = effective_date\n",
    "    next_pay_date = next_payment_date(effective_date)\n",
    "\n",
    "    while next_pay_date <= maturity_date:\n",
    "        delta_t = ((next_pay_date - current_date).days) / 360 # day-counting convention\n",
    "        t_1 = (current_date - effective_date).days / 360\n",
    "        t_2 = (next_pay_date - effective_date).days / 360\n",
    "\n",
    "        d += delta_t * Z(t_2) * (Q_h(t_1, h_i, prev_h) + Q_h(t_2, h_i, prev_h))\n",
    "        \n",
    "        current_date = next_pay_date\n",
    "        next_pay_date = next_payment_date(next_pay_date)\n",
    "    \n",
    "    return a*b-c*d"
   ]
  },
  {
   "cell_type": "code",
   "execution_count": 392,
   "metadata": {},
   "outputs": [],
   "source": [
    "# # differential of cds MTM value, for using in Newton-Raphson method.\n",
    "# def d_cds_mtm_value(h_1=0.5):\n",
    "#     a = (1-R)/2\n",
    "#     b = 0\n",
    "\n",
    "#     effective_date = contract_date + relativedelta(days=1)\n",
    "#     maturity_date = next_payment_date(date(2014, 9, 1))\n",
    "    \n",
    "#     T_1 = (maturity_date - effective_date).days / 360\n",
    "\n",
    "#     for k in range(K(T_1)):\n",
    "#         print(\"diff:\", s(k, T_1))\n",
    "#         b += (Z(s(k, T_1)) + Z(s(k+1, T_1))) * (-s(k, T_1) * np.exp(-s(k, T_1)*h_1) + s(k+1, T_1) * np.exp(-s(k+1, T_1)*h_1))\n",
    "\n",
    "#     c = 0.5 * spread_data[0.5] / 100 # Dividing by 100 to convert bps to %\n",
    "#     d = 0\n",
    "\n",
    "#     current_date = effective_date\n",
    "#     next_pay_date = next_payment_date(effective_date)\n",
    "\n",
    "#     while next_pay_date <= spread_maturity_dates[0] + relativedelta(days=2):\n",
    "#         delta_t = ((next_pay_date - current_date).days) / 360 # day-counting convention\n",
    "#         t_1 = (current_date - effective_date).days / 360\n",
    "#         t_2 = (next_pay_date - effective_date).days / 360\n",
    "        \n",
    "#         d += delta_t * Z(t_2) * (-t_1 * np.exp(-t_1*h_1) - t_2 * np.exp(-t_2*h_1))\n",
    "        \n",
    "#         current_date = next_pay_date\n",
    "#         next_pay_date = next_payment_date(next_pay_date)\n",
    "\n",
    "#     print(\"a:\", a)\n",
    "#     print(\"b:\", b)\n",
    "#     print(\"c:\", c)\n",
    "#     print(\"d:\", d)\n",
    "    \n",
    "#     return a*b-c*d"
   ]
  },
  {
   "cell_type": "code",
   "execution_count": 383,
   "metadata": {},
   "outputs": [],
   "source": [
    "# d_cds_mtm_value(0.01)"
   ]
  },
  {
   "cell_type": "code",
   "execution_count": 478,
   "metadata": {},
   "outputs": [],
   "source": [
    "# differential of cds MTM value, for using in Newton-Raphson method.\n",
    "def d_cds_mtm_value(h_i, maturity_date, prev_h={}):\n",
    "    a = (1-R)/2\n",
    "    b = 0\n",
    "    \n",
    "    T = (maturity_date - effective_date).days / 360\n",
    "\n",
    "    for k in range(K(T)):\n",
    "        # end_date_1 = effective_date + relativedelta(days=int(s(k, T)*360))\n",
    "        # end_date_2 = effective_date + relativedelta(days=int(s(k+1, T)*360))\n",
    "        # diff_1 = 0\n",
    "        # diff_2 = 0\n",
    "\n",
    "        # for idx, date in enumerate(spread_maturity_dates):\n",
    "        #     diff_1_check = False\n",
    "        #     diff_2_check = False\n",
    "\n",
    "        #     if date >= end_date_1 and not diff_1_check:\n",
    "        #         start_date_1 = effective_date if idx == 0 else spread_maturity_dates[idx-1]\n",
    "        #         diff_1 = (end_date_1-start_date_1).days / 360\n",
    "        #         diff_1_check = True\n",
    "\n",
    "        #     if date >= end_date_2 and not diff_2_check:\n",
    "        #         start_date_2 = effective_date if idx == 0 else spread_maturity_dates[idx-1]\n",
    "        #         diff_2 = (end_date_2-start_date_2).days / 360\n",
    "        #         diff_2_check = True\n",
    "\n",
    "        #     if diff_1_check and diff_2_check:\n",
    "        #         break\n",
    "            \n",
    "\n",
    "        b += (Z(s(k, T)) + Z(s(k+1, T))) * (diff_Q_h(s(k, T), h_i, prev_h) - diff_Q_h(s(k+1, T), h_i, prev_h))\n",
    "\n",
    "    maturity_date_index = spread_maturity_dates.index(maturity_date)\n",
    "    c = 0.5 * list(spread_data.values())[maturity_date_index] / 100 # Dividing by 100 to convert bps to %.\n",
    "    d = 0\n",
    "\n",
    "    current_date = effective_date\n",
    "    next_pay_date = next_payment_date(effective_date)\n",
    "\n",
    "    while next_pay_date <= maturity_date:\n",
    "        delta_t = ((next_pay_date - current_date).days) / 360 # day-counting convention\n",
    "        t_1 = (current_date - effective_date).days / 360\n",
    "        t_2 = (next_pay_date - effective_date).days / 360\n",
    "        \n",
    "        # end_date_1 = current_date\n",
    "        # end_date_2 = next_pay_date\n",
    "        # diff_1 = 0\n",
    "        # diff_2 = 0\n",
    "\n",
    "        # for idx, date in enumerate(spread_maturity_dates):\n",
    "        #     diff_1_check = False\n",
    "        #     diff_2_check = False\n",
    "\n",
    "        #     if date >= end_date_1 and not diff_1_check:\n",
    "        #         start_date_1 = effective_date if idx == 0 else spread_maturity_dates[idx-1]\n",
    "        #         diff_1 = (end_date_1-start_date_1).days / 360\n",
    "        #         diff_1_check = True\n",
    "\n",
    "        #     if date >= end_date_2 and not diff_2_check:\n",
    "        #         start_date_2 = effective_date if idx == 0 else spread_maturity_dates[idx-1]\n",
    "        #         diff_2 = (end_date_2-start_date_2).days / 360\n",
    "        #         diff_2_check = True\n",
    "\n",
    "        #     if diff_1_check and diff_2_check:\n",
    "        #         break\n",
    "\n",
    "        d += delta_t * Z(t_2) * (diff_Q_h(t_1, h_i, prev_h) + diff_Q_h(t_2, h_i, prev_h))\n",
    "        \n",
    "        current_date = next_pay_date\n",
    "        next_pay_date = next_payment_date(next_pay_date)\n",
    "    \n",
    "    return a*b-c*d"
   ]
  },
  {
   "cell_type": "code",
   "execution_count": 473,
   "metadata": {},
   "outputs": [
    {
     "data": {
      "text/plain": [
       "0.4777721806748909"
      ]
     },
     "execution_count": 473,
     "metadata": {},
     "output_type": "execute_result"
    }
   ],
   "source": [
    "d_cds_mtm_value(0.01, spread_maturity_dates[0])"
   ]
  },
  {
   "cell_type": "code",
   "execution_count": 479,
   "metadata": {},
   "outputs": [],
   "source": [
    "def newton_raphson_method(f, d_f, maturity_date, prev_h={}, x=0.01, eps=1e-6):\n",
    "    np.seterr(all=\"raise\")\n",
    "\n",
    "    val = f(x, maturity_date, prev_h)\n",
    "    while abs(val) > eps:\n",
    "        diff = d_f(x, maturity_date, prev_h) #differential of f(h1)\n",
    "\n",
    "        if np.abs(diff) > np.sqrt(np.finfo(float).eps):            \n",
    "            x = x - float(val) / diff\n",
    "            val = f(x, maturity_date, prev_h)\n",
    "        else:\n",
    "            return None\n",
    "        \n",
    "    return x"
   ]
  },
  {
   "cell_type": "code",
   "execution_count": 480,
   "metadata": {},
   "outputs": [
    {
     "data": {
      "text/plain": [
       "{datetime.date(2014, 9, 22): 1.9062919378974001,\n",
       " datetime.date(2015, 3, 20): 1.953364747912047,\n",
       " datetime.date(2016, 3, 21): 2.015745505817559,\n",
       " datetime.date(2017, 3, 20): 2.129558513721298,\n",
       " datetime.date(2018, 3, 20): 2.2270634200467003,\n",
       " datetime.date(2019, 3, 20): 2.340216635297322,\n",
       " datetime.date(2021, 3, 22): 2.7012838580319865,\n",
       " datetime.date(2024, 3, 20): 3.1345870523377024,\n",
       " datetime.date(2034, 3, 20): 3.5864510796618547,\n",
       " datetime.date(2044, 3, 21): 3.717296614970036}"
      ]
     },
     "execution_count": 480,
     "metadata": {},
     "output_type": "execute_result"
    }
   ],
   "source": [
    "h_values = {}\n",
    "\n",
    "for mat_date in spread_maturity_dates:\n",
    "    h = newton_raphson_method(cds_mtm_value, d_cds_mtm_value, mat_date, h_values)\n",
    "    h_values[mat_date] = h\n",
    "    \n",
    "h_values"
   ]
  },
  {
   "cell_type": "code",
   "execution_count": 454,
   "metadata": {},
   "outputs": [],
   "source": [
    "def Q(t):\n",
    "    # Above we have a function Q_h(t, h_i, prev_h={}) which requires t and h_i as arguments.\n",
    "    # Now using the values of h we have found, this function provides value of Q at any time t years from the effective date.\n",
    "\n",
    "    end_date = effective_date + relativedelta(days=int(t*360))\n",
    "\n",
    "    for mat_date in spread_maturity_dates:\n",
    "        if end_date <= mat_date:\n",
    "            return Q_h(t, h_values[mat_date], h_values)\n",
    "        \n",
    "    return Q_h(t, list(h_values.values())[-1], h_values) # if given time is more than the max date we have, return last h value"
   ]
  },
  {
   "cell_type": "code",
   "execution_count": 481,
   "metadata": {},
   "outputs": [
    {
     "data": {
      "text/plain": [
       "{datetime.date(2014, 9, 22): 0.33772363917412773,\n",
       " datetime.date(2015, 3, 20): 0.12786455820730133,\n",
       " datetime.date(2016, 3, 21): 0.01637950744353088,\n",
       " datetime.date(2017, 3, 20): 0.0019018188778591617,\n",
       " datetime.date(2018, 3, 20): 0.00020008803450173723,\n",
       " datetime.date(2019, 3, 20): 1.853853448339687e-05,\n",
       " datetime.date(2021, 3, 22): 7.575411089732266e-08,\n",
       " datetime.date(2024, 3, 20): 5.575006107287449e-12,\n",
       " datetime.date(2034, 3, 20): 8.744229386543874e-28,\n",
       " datetime.date(2044, 3, 21): 3.5937449849945805e-44}"
      ]
     },
     "execution_count": 481,
     "metadata": {},
     "output_type": "execute_result"
    }
   ],
   "source": [
    "Q_values = {}\n",
    "\n",
    "for mat_date in spread_maturity_dates:\n",
    "    Q_values[mat_date] = Q((mat_date-effective_date).days/360)\n",
    "    \n",
    "Q_values"
   ]
  },
  {
   "cell_type": "code",
   "execution_count": null,
   "metadata": {},
   "outputs": [],
   "source": []
  }
 ],
 "metadata": {
  "kernelspec": {
   "display_name": "dyson",
   "language": "python",
   "name": "python3"
  },
  "language_info": {
   "codemirror_mode": {
    "name": "ipython",
    "version": 3
   },
   "file_extension": ".py",
   "mimetype": "text/x-python",
   "name": "python",
   "nbconvert_exporter": "python",
   "pygments_lexer": "ipython3",
   "version": "3.11.8"
  }
 },
 "nbformat": 4,
 "nbformat_minor": 2
}
