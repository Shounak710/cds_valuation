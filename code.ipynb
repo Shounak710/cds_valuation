{
 "cells": [
  {
   "cell_type": "code",
   "execution_count": 510,
   "metadata": {},
   "outputs": [],
   "source": [
    "import math\n",
    "import numpy as np\n",
    "from datetime import date\n",
    "from dateutil.relativedelta import relativedelta\n",
    "import matplotlib.pyplot as plt"
   ]
  },
  {
   "cell_type": "markdown",
   "metadata": {},
   "source": [
    "The Libor rate r(s) for maturity s years is given by the Nelson-Siegel model as:\n",
    "\n",
    "$r(s) = B0 + B1*(tau/s)*(1-exp(-s/tau)) + B2*((tau/s)*(1-exp(-s/tau)) - exp(-s/tau))$\n",
    "\n",
    "From this, we compute the discount factor $Z(0, s) = exp(-r(s) * s)$"
   ]
  },
  {
   "cell_type": "code",
   "execution_count": 511,
   "metadata": {},
   "outputs": [],
   "source": [
    "def r(s, B0=0.0408, B1=-0.0396, B2=-0.0511, tau=1.614):\n",
    "    if s == 0:\n",
    "        return 0\n",
    "\n",
    "    term_1 = B0\n",
    "    term_2 = B1*(tau/s)*(1-np.exp(-s/tau))\n",
    "    term_3 = B2*((tau/s)*(1-np.exp(-s/tau)) - np.exp(-s/tau))\n",
    "\n",
    "    return term_1 + term_2 + term_3"
   ]
  },
  {
   "cell_type": "code",
   "execution_count": 512,
   "metadata": {},
   "outputs": [],
   "source": [
    "def Z(s, B0=0.0408, B1=-0.0396, B2=-0.0511, tau=1.614):\n",
    "    return np.exp(-r(s, B0, B1, B2, tau) * s)"
   ]
  },
  {
   "cell_type": "markdown",
   "metadata": {},
   "source": [
    "### Calculation of survival probabilities Q(t)"
   ]
  },
  {
   "cell_type": "code",
   "execution_count": 513,
   "metadata": {},
   "outputs": [],
   "source": [
    "def weekend_rollover(w_date):\n",
    "    # If payment date falls on a weekday, roll it over to Monday.\n",
    "    if w_date.weekday() == 5:\n",
    "        w_date += relativedelta(days=2)\n",
    "    elif w_date.weekday() == 6:\n",
    "        w_date += relativedelta(days=1)\n",
    "\n",
    "    return w_date"
   ]
  },
  {
   "cell_type": "code",
   "execution_count": 552,
   "metadata": {},
   "outputs": [],
   "source": [
    "payment_period = 0.25 # 4 payments per year\n",
    "\n",
    "# maturity dates for the known spreads, as calculated on February 28, 2014 \n",
    "spread_maturity_dates_before_adjustment = [\n",
    "    date(2014, 9, 20),\n",
    "    date(2015, 3, 20),\n",
    "    date(2016, 3, 20),\n",
    "    date(2017, 3, 20),\n",
    "    date(2018, 3, 20),\n",
    "    date(2019, 3, 20),\n",
    "    date(2021, 3, 20),\n",
    "    date(2024, 3, 20),\n",
    "    date(2034, 3, 20),\n",
    "    date(2044, 3, 20)\n",
    "]\n",
    "\n",
    "spread_maturity_dates = [ weekend_rollover(mat_date) for mat_date in spread_maturity_dates_before_adjustment ]\n",
    "# spread data: {time(in years): spread (bps)}\n",
    "spread_data = {\n",
    "    0.5: 103.07,\n",
    "    1: 104.68,\n",
    "    2: 106.74,\n",
    "    3: 110.31,\n",
    "    4: 113.38,\n",
    "    5: 116.98,\n",
    "    7: 128.78,\n",
    "    10: 143.51,\n",
    "    20: 159.43,\n",
    "    30: 164.13\n",
    "}"
   ]
  },
  {
   "cell_type": "markdown",
   "metadata": {},
   "source": [
    "Payment convention assumed is (Actual / 360).\n",
    "\n",
    "If payment dates fall on weekend, they are rolled over to Monday."
   ]
  },
  {
   "cell_type": "markdown",
   "metadata": {},
   "source": [
    "h(s), which is the instantaneous forward default rate, is assumed to be piecewise constant between the different maturities for which we know the spreads.\n",
    "\n",
    "If we can calibrate the values of this instantaneous forward default rate, we can get the survival curve.\n",
    "\n",
    "$-\\ln(Q(t)) = \\int_0^t h(s) \\,ds$"
   ]
  },
  {
   "cell_type": "code",
   "execution_count": 543,
   "metadata": {},
   "outputs": [],
   "source": [
    "# Payment dates for standard CDS = 20 March, 20 June, 20 September, 20 December\n",
    "standard_cds_payment_dates = [date(2014, 3, 20), date(2014, 6, 20), date(2014, 9, 20), date(2014, 12, 20)] # year is irrelevant\n",
    "\n",
    "def next_payment_date(current_date, payment_dates):\n",
    "    payment_date = current_date\n",
    "\n",
    "    if current_date.month < payment_dates[0].month:\n",
    "        payment_date = date(current_date.year, payment_dates[0].month, payment_dates[0].day)\n",
    "    elif current_date.month > payment_dates[0].month and current_date.month < payment_dates[1].month:\n",
    "        payment_date = date(current_date.year, payment_dates[1].month, payment_dates[1].day)\n",
    "    elif current_date.month > payment_dates[1].month and current_date.month < payment_dates[2].month:\n",
    "        payment_date = date(current_date.year, payment_dates[2].month, payment_dates[2].day)\n",
    "    elif current_date.month > payment_dates[2].month and current_date.month < payment_dates[3].month:\n",
    "        payment_date = date(current_date.year, payment_dates[3].month, payment_dates[3].day)\n",
    "    else:\n",
    "        # date belongs to one of the payment months\n",
    "        if current_date.day < payment_dates[0].day:\n",
    "            payment_date = date(current_date.year, current_date.month, payment_dates[0].day)\n",
    "        else:\n",
    "            payment_date = next_payment_date(current_date + relativedelta(months=1), payment_dates)\n",
    "\n",
    "    # If payment date falls on a weekday, roll it over to Monday.\n",
    "    payment_date = weekend_rollover(payment_date)\n",
    "\n",
    "    return payment_date"
   ]
  },
  {
   "cell_type": "code",
   "execution_count": 516,
   "metadata": {},
   "outputs": [],
   "source": [
    "contract_date = date(2014, 2, 28)\n",
    "effective_date = contract_date + relativedelta(days=1)"
   ]
  },
  {
   "cell_type": "code",
   "execution_count": 517,
   "metadata": {},
   "outputs": [],
   "source": [
    "def K(T_i, m=12):\n",
    "    return math.ceil(m*T_i)\n",
    "\n",
    "def s(k, T_i, m=12):\n",
    "    # We are choosing m=12, because we want to calculate the value in monthly subintervals.\n",
    "    return k*T_i / K(T_i, m)"
   ]
  },
  {
   "cell_type": "code",
   "execution_count": 518,
   "metadata": {},
   "outputs": [],
   "source": [
    "def Q_h(t, h_i, prev_h={}):\n",
    "    # t: time in years\n",
    "    # h_i: instantaneous forward default rate for ith maturity\n",
    "\n",
    "    end_date = effective_date + relativedelta(days=int(t*360))\n",
    "\n",
    "    h_t = 0\n",
    "    for idx, mat_date in enumerate(spread_maturity_dates):\n",
    "        start_date = effective_date if idx==0 else spread_maturity_dates[idx-1]\n",
    "\n",
    "        if mat_date < end_date:\n",
    "            h_t += prev_h[mat_date] * ((mat_date - start_date).days / 360)\n",
    "        elif mat_date >= end_date:\n",
    "            h_t += h_i * ((end_date - start_date).days / 360)\n",
    "\n",
    "            break\n",
    "    \n",
    "    return np.exp(-h_t)\n",
    "\n",
    "# differential of Q_h\n",
    "def diff_Q_h(t, h_i, prev_h):\n",
    "    end_date = effective_date + relativedelta(days=int(t*360))\n",
    "    diff = 0\n",
    "\n",
    "    for idx, mat_date in enumerate(spread_maturity_dates):\n",
    "        if mat_date >= end_date:\n",
    "            start_date = effective_date if idx == 0 else spread_maturity_dates[idx-1]\n",
    "            diff = (end_date - start_date).days / 360\n",
    "            break\n",
    "\n",
    "    return -diff*Q_h(t, h_i, prev_h)"
   ]
  },
  {
   "cell_type": "code",
   "execution_count": 554,
   "metadata": {},
   "outputs": [],
   "source": [
    "\n",
    "def standard_cds_mtm_value(h_i, maturity_date, prev_h={}, payment_dates=standard_cds_payment_dates, R=0.45):\n",
    "    a = (1-R) * 100/2 # Multiplying by 100 to convert % to bps\n",
    "    b = 0\n",
    "\n",
    "    T = (maturity_date - effective_date).days / 360\n",
    "    \n",
    "    for k in range(K(T)):\n",
    "        b += (Z(s(k, T)) + Z(s(k+1, T))) * (Q_h(s(k,T), h_i, prev_h) - Q_h(s(k+1, T), h_i, prev_h))\n",
    "\n",
    "    maturity_date_index = spread_maturity_dates.index(maturity_date)\n",
    "    \n",
    "    c = 0.5 * list(spread_data.values())[maturity_date_index]\n",
    "    d = 0\n",
    "\n",
    "    current_date = effective_date\n",
    "    next_pay_date = next_payment_date(effective_date, payment_dates=payment_dates)\n",
    "\n",
    "    while next_pay_date <= maturity_date:\n",
    "        delta_t = ((next_pay_date - current_date).days) / 360 # day-counting convention\n",
    "        t_1 = (current_date - effective_date).days / 360\n",
    "        t_2 = (next_pay_date - effective_date).days / 360\n",
    "\n",
    "        d += delta_t * Z(t_2) * (Q_h(t_1, h_i, prev_h) + Q_h(t_2, h_i, prev_h))\n",
    "        \n",
    "        current_date = next_pay_date\n",
    "        next_pay_date = next_payment_date(next_pay_date, payment_dates=payment_dates)\n",
    "    \n",
    "    return a*b-c*d"
   ]
  },
  {
   "cell_type": "code",
   "execution_count": 555,
   "metadata": {},
   "outputs": [],
   "source": [
    "# differential of cds MTM value, for using in Newton-Raphson method.\n",
    "def d_standard_cds_mtm_value(h_i, maturity_date, prev_h={}, payment_dates=standard_cds_payment_dates, R=0.45):\n",
    "    a = (1-R) * 100/2 # Multiplying by 100 to convert % to bps\n",
    "    b = 0\n",
    "    \n",
    "    T = (maturity_date - effective_date).days / 360\n",
    "\n",
    "    for k in range(K(T)):\n",
    "        b += (Z(s(k, T)) + Z(s(k+1, T))) * (diff_Q_h(s(k, T), h_i, prev_h) - diff_Q_h(s(k+1, T), h_i, prev_h))\n",
    "\n",
    "    maturity_date_index = spread_maturity_dates.index(maturity_date)\n",
    "    c = 0.5 * list(spread_data.values())[maturity_date_index]\n",
    "    d = 0\n",
    "\n",
    "    current_date = effective_date\n",
    "    next_pay_date = next_payment_date(effective_date, payment_dates=payment_dates)\n",
    "\n",
    "    while next_pay_date <= maturity_date:\n",
    "        delta_t = ((next_pay_date - current_date).days) / 360 # day-counting convention\n",
    "        t_1 = (current_date - effective_date).days / 360\n",
    "        t_2 = (next_pay_date - effective_date).days / 360\n",
    "\n",
    "        d += delta_t * Z(t_2) * (diff_Q_h(t_1, h_i, prev_h) + diff_Q_h(t_2, h_i, prev_h))\n",
    "        \n",
    "        current_date = next_pay_date\n",
    "        next_pay_date = next_payment_date(next_pay_date, payment_dates=payment_dates)\n",
    "    \n",
    "    return a*b-c*d"
   ]
  },
  {
   "cell_type": "code",
   "execution_count": 556,
   "metadata": {},
   "outputs": [
    {
     "data": {
      "text/plain": [
       "47.77721806748909"
      ]
     },
     "execution_count": 556,
     "metadata": {},
     "output_type": "execute_result"
    }
   ],
   "source": [
    "d_standard_cds_mtm_value(0.01, spread_maturity_dates[0])"
   ]
  },
  {
   "cell_type": "code",
   "execution_count": 522,
   "metadata": {},
   "outputs": [],
   "source": [
    "def newton_raphson_method(f, d_f, maturity_date, prev_h={}, x=0.01, eps=1e-6):\n",
    "    np.seterr(all=\"raise\")\n",
    "\n",
    "    val = f(x, maturity_date, prev_h)\n",
    "    while abs(val) > eps:\n",
    "        diff = d_f(x, maturity_date, prev_h) #differential of f(h1)\n",
    "\n",
    "        if np.abs(diff) > np.sqrt(np.finfo(float).eps):            \n",
    "            x = x - float(val) / diff\n",
    "            val = f(x, maturity_date, prev_h)\n",
    "        else:\n",
    "            return None\n",
    "        \n",
    "    return x"
   ]
  },
  {
   "cell_type": "code",
   "execution_count": 557,
   "metadata": {},
   "outputs": [
    {
     "data": {
      "text/plain": [
       "{datetime.date(2014, 9, 22): 1.906293407117043,\n",
       " datetime.date(2015, 3, 20): 1.953364459804524,\n",
       " datetime.date(2016, 3, 21): 2.0157485147215066,\n",
       " datetime.date(2017, 3, 20): 2.129561259497372,\n",
       " datetime.date(2018, 3, 20): 2.2270680733742383,\n",
       " datetime.date(2019, 3, 20): 2.3402157994365926,\n",
       " datetime.date(2021, 3, 22): 2.7012830118133793,\n",
       " datetime.date(2024, 3, 20): 3.1345861935068893,\n",
       " datetime.date(2034, 3, 20): 3.5864503288466683,\n",
       " datetime.date(2044, 3, 21): 3.717295971213892}"
      ]
     },
     "execution_count": 557,
     "metadata": {},
     "output_type": "execute_result"
    }
   ],
   "source": [
    "h_values = {}\n",
    "\n",
    "for mat_date in spread_maturity_dates:\n",
    "    h = newton_raphson_method(standard_cds_mtm_value, d_standard_cds_mtm_value, mat_date, h_values)\n",
    "    h_values[mat_date] = h\n",
    "    \n",
    "h_values"
   ]
  },
  {
   "cell_type": "code",
   "execution_count": 558,
   "metadata": {},
   "outputs": [],
   "source": [
    "def Q(dat):\n",
    "    # Above we have a function Q_h(t, h_i, prev_h={}) which requires t and h_i as arguments.\n",
    "    # Now using the values of h we have found, this function provides value of Q at any date t years from the effective date.\n",
    "    if dat < effective_date:\n",
    "        return 0\n",
    "    \n",
    "    t = (dat - effective_date).days / 360\n",
    "    \n",
    "    for mat_date in spread_maturity_dates:\n",
    "        if dat <= mat_date:\n",
    "            return Q_h(t, h_values[mat_date], h_values)\n",
    "        \n",
    "    return Q_h(t, list(h_values.values())[-1], h_values) # if given time is more than the max date we have, return last h value"
   ]
  },
  {
   "cell_type": "code",
   "execution_count": 559,
   "metadata": {},
   "outputs": [
    {
     "data": {
      "text/plain": [
       "{datetime.date(2014, 9, 22): 0.3377233566214906,\n",
       " datetime.date(2015, 3, 20): 0.12786446954790137,\n",
       " datetime.date(2016, 3, 21): 0.016379445843662035,\n",
       " datetime.date(2017, 3, 20): 0.0019018064455564834,\n",
       " datetime.date(2018, 3, 20): 0.0002000857851023297,\n",
       " datetime.date(2019, 3, 20): 1.853834154334645e-05,\n",
       " datetime.date(2021, 3, 22): 7.575345300809694e-08,\n",
       " datetime.date(2024, 3, 20): 5.5749722277052555e-12,\n",
       " datetime.date(2034, 3, 20): 8.744242869471106e-28,\n",
       " datetime.date(2044, 3, 21): 3.593774008363481e-44}"
      ]
     },
     "execution_count": 559,
     "metadata": {},
     "output_type": "execute_result"
    }
   ],
   "source": [
    "Q_values = {}\n",
    "\n",
    "for mat_date in spread_maturity_dates:\n",
    "    Q_values[mat_date] = Q(mat_date)\n",
    "    \n",
    "Q_values"
   ]
  },
  {
   "cell_type": "code",
   "execution_count": 560,
   "metadata": {},
   "outputs": [
    {
     "name": "stdout",
     "output_type": "stream",
     "text": [
      "-9.64206492426456e-12\n",
      "-6.750155989720952e-13\n",
      "-5.071854047855595e-11\n",
      "-4.345679371908773e-11\n",
      "-9.99733629214461e-11\n",
      "-2.951736632894608e-10\n",
      "-6.3358882584907406e-09\n",
      "-1.2342816546606628e-07\n",
      "-2.1316282072803006e-14\n",
      "-1.1368683772161603e-13\n"
     ]
    }
   ],
   "source": [
    "for mat_date in spread_maturity_dates:\n",
    "    print(standard_cds_mtm_value(h_values[mat_date],mat_date,h_values))"
   ]
  },
  {
   "cell_type": "markdown",
   "metadata": {},
   "source": [
    "### Pricing non-standard CDS using the calibrated survival curve"
   ]
  },
  {
   "cell_type": "code",
   "execution_count": 583,
   "metadata": {},
   "outputs": [],
   "source": [
    "# Payment dates for non-standard CDS = 15 February, 15 May, 15 August, 15 November\n",
    "nonstandard_cds_payment_dates = [date(2014, 2, 15), date(2014, 5, 15), date(2014, 8, 15), date(2014, 11, 15)] # year is irrelevant\n",
    "ns_effective_date = date(2014, 3, 1)"
   ]
  },
  {
   "cell_type": "code",
   "execution_count": 587,
   "metadata": {},
   "outputs": [],
   "source": [
    "def nonstandard_cds_mtm_value(maturity_date, spread=170, payment_dates=nonstandard_cds_payment_dates, R=0.6):\n",
    "    a = (1-R) * 100/2 # Multiplying by 100 to convert % to bps\n",
    "    b = 0\n",
    "\n",
    "    T = (maturity_date - ns_effective_date).days / 360\n",
    "    \n",
    "    for k in range(K(T)):\n",
    "        date_s_k = ns_effective_date + relativedelta(days=s(k, T)*360)\n",
    "        date_s_k1 = ns_effective_date + relativedelta(days=s(k+1, T)*360)\n",
    "\n",
    "        b += (Z(s(k, T)) + Z(s(k+1, T))) * (Q(date_s_k) - Q(date_s_k1))\n",
    "\n",
    "    c = 0.5 * spread\n",
    "    d = 0\n",
    "\n",
    "    current_date = ns_effective_date\n",
    "    next_pay_date = next_payment_date(ns_effective_date, payment_dates=payment_dates)\n",
    "\n",
    "    while next_pay_date <= maturity_date:\n",
    "        delta_t = ((next_pay_date - current_date).days) / 360 # day-counting convention\n",
    "        t_1 = (current_date - ns_effective_date).days / 360\n",
    "        t_2 = (next_pay_date - ns_effective_date).days / 360\n",
    "\n",
    "        d += delta_t * Z(t_2) * (Q(current_date) + Q(next_pay_date))\n",
    "        \n",
    "        current_date = next_pay_date\n",
    "        next_pay_date = next_payment_date(next_pay_date, payment_dates=payment_dates)\n",
    "    \n",
    "    return a*b-c*d"
   ]
  },
  {
   "cell_type": "code",
   "execution_count": 588,
   "metadata": {},
   "outputs": [
    {
     "data": {
      "text/plain": [
       "-49.535347403931794"
      ]
     },
     "execution_count": 588,
     "metadata": {},
     "output_type": "execute_result"
    }
   ],
   "source": [
    "nonstandard_cds_mtm_value(date(2042, 5, 15))"
   ]
  },
  {
   "cell_type": "code",
   "execution_count": null,
   "metadata": {},
   "outputs": [],
   "source": []
  }
 ],
 "metadata": {
  "kernelspec": {
   "display_name": "dyson",
   "language": "python",
   "name": "python3"
  },
  "language_info": {
   "codemirror_mode": {
    "name": "ipython",
    "version": 3
   },
   "file_extension": ".py",
   "mimetype": "text/x-python",
   "name": "python",
   "nbconvert_exporter": "python",
   "pygments_lexer": "ipython3",
   "version": "3.11.8"
  }
 },
 "nbformat": 4,
 "nbformat_minor": 2
}
